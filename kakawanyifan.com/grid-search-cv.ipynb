{
 "cells": [
  {
   "cell_type": "code",
   "execution_count": 3,
   "outputs": [
    {
     "name": "stdout",
     "text": [
      "在测试集上的准确率\n",
      "0.8834619883040936\n",
      "在交叉验证中最好的结果和最好的模型\n",
      "0.8911033314173225\n",
      "KNeighborsClassifier(algorithm='auto', leaf_size=30, metric='minkowski',\n",
      "                     metric_params=None, n_jobs=None, n_neighbors=9, p=2,\n",
      "                     weights='uniform')\n",
      "每个超参数，每次交叉验证的结果\n",
      "{'mean_fit_time': array([0.03415122, 0.03331544, 0.03275406, 0.03232412, 0.03168657]), 'std_fit_time': array([0.00845525, 0.00342179, 0.00203398, 0.00204903, 0.00153617]), 'mean_score_time': array([0.14538095, 0.16241541, 0.17012031, 0.16407616, 0.16518998]), 'std_score_time': array([0.00723635, 0.00982042, 0.00947186, 0.00797033, 0.00464059]), 'param_n_neighbors': masked_array(data=[1, 3, 5, 7, 9],\n",
      "             mask=[False, False, False, False, False],\n",
      "       fill_value='?',\n",
      "            dtype=object), 'params': [{'n_neighbors': 1}, {'n_neighbors': 3}, {'n_neighbors': 5}, {'n_neighbors': 7}, {'n_neighbors': 9}], 'split0_test_score': array([0.85482613, 0.88694839, 0.89349758, 0.89692811, 0.89692811]), 'split1_test_score': array([0.84500234, 0.87915172, 0.88367379, 0.88538905, 0.88585685]), 'split2_test_score': array([0.85201934, 0.88133479, 0.88242632, 0.88850772, 0.88913145]), 'split3_test_score': array([0.85685327, 0.88258225, 0.88866365, 0.89209418, 0.89240605]), 'split4_test_score': array([0.855138  , 0.88258225, 0.88850772, 0.88835179, 0.89006705]), 'split5_test_score': array([0.85449158, 0.88209607, 0.88739863, 0.88911416, 0.89285714]), 'split6_test_score': array([0.85480349, 0.88131628, 0.8867748 , 0.89285714, 0.89441672]), 'split7_test_score': array([0.85573924, 0.8816282 , 0.89051778, 0.8930131 , 0.89332502]), 'split8_test_score': array([0.84622583, 0.87679351, 0.88256394, 0.88693075, 0.88817842]), 'split9_test_score': array([0.84981285, 0.88178415, 0.88552714, 0.88864629, 0.8878665 ]), 'mean_test_score': array([0.85249121, 0.88162176, 0.88695513, 0.89018323, 0.89110333]), 'std_test_score': array([0.00392578, 0.00245068, 0.00337126, 0.00327922, 0.00325784]), 'rank_test_score': array([5, 4, 3, 2, 1], dtype=int32)}\n"
     ],
     "output_type": "stream"
    }
   ],
   "source": [
    "from sklearn.model_selection import train_test_split\n",
    "from sklearn.neighbors import KNeighborsClassifier\n",
    "from sklearn.preprocessing import StandardScaler\n",
    "from sklearn.model_selection import GridSearchCV\n",
    "import pandas as pd\n",
    "\n",
    "# 读取数据\n",
    "data = pd.read_csv('../data/data_train.csv',names = ['id','k1k2','lock','stop','gate','thdv','thdi','label'])\n",
    "# 取出目标值和特征值\n",
    "y = data['label']\n",
    "x = data.drop(['label','id'],axis=1)\n",
    "# 分割为训练集和测试集\n",
    "x_train,x_test,y_train,y_test = train_test_split(x,y,test_size=0.25)\n",
    "\n",
    "# 实际上不做标准化，效果更好。这个应该和原本的数据有关。\n",
    "# 特征工程\n",
    "# 对x_train和x_test进行标准化\n",
    "# std = StandardScaler()\n",
    "# x_train = std.fit_transform(x_train)\n",
    "# x_test = std.fit_transform(x_test)\n",
    "\n",
    "# KNN\n",
    "# 注意，不要设置参数\n",
    "# knn = KNeighborsClassifier(n_neighbors=5)\n",
    "knn = KNeighborsClassifier()\n",
    "\n",
    "gc = GridSearchCV(knn,param_grid={'n_neighbors':[1,3,5,7,9]},cv=10)\n",
    "gc.fit(x_train,y_train)\n",
    "\n",
    "# 预测准确率\n",
    "print('在测试集上的准确率')\n",
    "print(gc.score(x_test,y_test))\n",
    "\n",
    "print('在交叉验证中最好的结果和最好的模型')\n",
    "print(gc.best_score_)\n",
    "print(gc.best_estimator_)\n",
    "\n",
    "print('每个超参数，每次交叉验证的结果')\n",
    "print(gc.cv_results_)"
   ],
   "metadata": {
    "collapsed": false,
    "pycharm": {
     "name": "#%%\n",
     "is_executing": false
    }
   }
  }
 ],
 "metadata": {
  "kernelspec": {
   "display_name": "Python 3",
   "language": "python",
   "name": "python3"
  },
  "language_info": {
   "codemirror_mode": {
    "name": "ipython",
    "version": 2
   },
   "file_extension": ".py",
   "mimetype": "text/x-python",
   "name": "python",
   "nbconvert_exporter": "python",
   "pygments_lexer": "ipython2",
   "version": "2.7.6"
  },
  "pycharm": {
   "stem_cell": {
    "cell_type": "raw",
    "source": [],
    "metadata": {
     "collapsed": false
    }
   }
  }
 },
 "nbformat": 4,
 "nbformat_minor": 0
}