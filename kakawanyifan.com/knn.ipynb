{
 "cells": [
  {
   "cell_type": "code",
   "execution_count": 15,
   "metadata": {
    "collapsed": true,
    "pycharm": {
     "is_executing": false,
     "name": "#%%\n"
    }
   },
   "outputs": [
    {
     "name": "stdout",
     "text": [
      "   id       k1k2       lock      stop       gate       thdv        thdi  label\n",
      "0   1  11.802741  12.122681 -0.057440  12.089629  11.809618   11.468398      1\n",
      "1   2  11.818357  12.135362 -0.055879  12.056373  11.671259   38.840074      1\n",
      "2   3  11.802741  12.121097 -0.060561  12.038968  12.163057   14.761536      1\n",
      "3   4  11.844897  12.157545 -0.094915  12.059551  10.682868   16.772367      1\n",
      "4   5  11.818357  12.121097 -0.087113  12.054791   9.838321  141.752642      1\n",
      "5   6  11.818357  12.140113 -0.083992  12.064298  11.396249   19.982123      1\n",
      "6   7  11.821478  12.130612 -0.105850  12.059551  10.694349   12.984901      1\n",
      "7   8  11.819918  12.121097 -0.085552  12.062716  10.686139  197.598946      1\n",
      "8   9  11.849578  12.125861 -0.090233  12.043715  11.513550   14.365037      1\n",
      "9  10  11.773081  12.105262 -0.071496  12.053209  10.545958   24.675184      1\n",
      "[0 1 0 ... 1 0 1]\n"
     ],
     "output_type": "stream"
    },
    {
     "data": {
      "text/plain": "0.8856140350877193"
     },
     "metadata": {},
     "output_type": "execute_result",
     "execution_count": 15
    }
   ],
   "source": [
    "from sklearn.model_selection import train_test_split\n",
    "from sklearn.neighbors import KNeighborsClassifier\n",
    "from sklearn.preprocessing import StandardScaler\n",
    "import pandas as pd\n",
    "\n",
    "# 读取数据\n",
    "data = pd.read_csv('../data/data_train.csv',names = ['id','k1k2','lock','stop','gate','thdv','thdi','label'])\n",
    "print(data.head(10))\n",
    "# 取出目标值和特征值\n",
    "y = data['label']\n",
    "x = data.drop(['label','id'],axis=1)\n",
    "# 分割为训练集和测试集\n",
    "x_train,x_test,y_train,y_test = train_test_split(x,y,test_size=0.25)\n",
    "# 实际上不做标准化，效果更好。这个应该和原本的数据有关。\n",
    "# 特征工程\n",
    "# 对x_train和x_test进行标准化\n",
    "# std = StandardScaler()\n",
    "# x_train = std.fit_transform(x_train)\n",
    "# x_test = std.fit_transform(x_test)\n",
    "# KNN\n",
    "knn = KNeighborsClassifier(n_neighbors=5)\n",
    "knn.fit(x_train,y_train)\n",
    "# 预测\n",
    "y_predict = knn.predict(x_test)\n",
    "print(y_predict)\n",
    "# 准确率\n",
    "knn.score(x_test,y_test)\n",
    "\n"
   ]
  }
 ],
 "metadata": {
  "kernelspec": {
   "display_name": "Python 3",
   "language": "python",
   "name": "python3"
  },
  "language_info": {
   "codemirror_mode": {
    "name": "ipython",
    "version": 2
   },
   "file_extension": ".py",
   "mimetype": "text/x-python",
   "name": "python",
   "nbconvert_exporter": "python",
   "pygments_lexer": "ipython2",
   "version": "2.7.6"
  },
  "pycharm": {
   "stem_cell": {
    "cell_type": "raw",
    "source": [],
    "metadata": {
     "collapsed": false
    }
   }
  }
 },
 "nbformat": 4,
 "nbformat_minor": 0
}