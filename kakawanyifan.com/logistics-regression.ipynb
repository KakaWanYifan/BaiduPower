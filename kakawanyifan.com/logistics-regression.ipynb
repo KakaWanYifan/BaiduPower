{
 "cells": [
  {
   "cell_type": "code",
   "execution_count": 10,
   "metadata": {
    "collapsed": true,
    "pycharm": {
     "is_executing": false
    }
   },
   "outputs": [
    {
     "name": "stdout",
     "text": [
      "[0 1 1 ... 0 0 1]\n",
      "0.8746198830409356\n",
      "              precision    recall  f1-score   support\n",
      "\n",
      "           0       0.93      0.81      0.87     10684\n",
      "           1       0.83      0.94      0.88     10691\n",
      "\n",
      "    accuracy                           0.87     21375\n",
      "   macro avg       0.88      0.87      0.87     21375\n",
      "weighted avg       0.88      0.87      0.87     21375\n",
      "\n"
     ],
     "output_type": "stream"
    }
   ],
   "source": [
    "from sklearn.preprocessing import StandardScaler\n",
    "from sklearn.linear_model import LogisticRegression\n",
    "from sklearn.model_selection import train_test_split\n",
    "from sklearn.metrics import classification_report\n",
    "import pandas as pd\n",
    "\n",
    "# 读取数据\n",
    "data = pd.read_csv('../data/data_train.csv',names = ['id','k1k2','lock','stop','gate','thdv','thdi','label'])\n",
    "# 取出目标值和特征值\n",
    "y = data['label']\n",
    "x = data.drop(['label','id'],axis=1)\n",
    "# 分割为训练集和测试集\n",
    "x_train,x_test,y_train,y_test = train_test_split(x,y,test_size=0.25)\n",
    "\n",
    "# 标准化数据，保证每个维度的特征数据方差为1，均值为0。使得预测结果不会被某些维度过大的特征值而主导\n",
    "ss = StandardScaler()\n",
    "x_train = ss.fit_transform(x_train)\n",
    "x_test = ss.transform(x_test)\n",
    "\n",
    "# 初始化 LogisticRegression\n",
    "lr = LogisticRegression(C=1.0, penalty='l2', tol=0.01)\n",
    "\n",
    "# 跳用LogisticRegression中的fit函数／模块来训练模型参数\n",
    "lr.fit(x_train,y_train)\n",
    "print(lr.predict(x_test))\n",
    "print(lr.score(x_test,y_test))\n",
    "\n",
    "print(classification_report(y_test,lr.predict(x_test)))\n",
    "\n"
   ]
  }
 ],
 "metadata": {
  "kernelspec": {
   "display_name": "Python 3",
   "language": "python",
   "name": "python3"
  },
  "language_info": {
   "codemirror_mode": {
    "name": "ipython",
    "version": 2
   },
   "file_extension": ".py",
   "mimetype": "text/x-python",
   "name": "python",
   "nbconvert_exporter": "python",
   "pygments_lexer": "ipython2",
   "version": "2.7.6"
  },
  "pycharm": {
   "stem_cell": {
    "cell_type": "raw",
    "source": [],
    "metadata": {
     "collapsed": false
    }
   }
  }
 },
 "nbformat": 4,
 "nbformat_minor": 0
}